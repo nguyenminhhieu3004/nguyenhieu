{
  "nbformat": 4,
  "nbformat_minor": 0,
  "metadata": {
    "kernelspec": {
      "display_name": "Python 3",
      "language": "python",
      "name": "python3"
    },
    "language_info": {
      "codemirror_mode": {
        "name": "ipython",
        "version": 3
      },
      "file_extension": ".py",
      "mimetype": "text/x-python",
      "name": "python",
      "nbconvert_exporter": "python",
      "pygments_lexer": "ipython3",
      "version": "3.8.3"
    },
    "colab": {
      "name": "NguyenMinhHieu-thuchanh-ptdl.ipynb",
      "provenance": [],
      "include_colab_link": true
    }
  },
  "cells": [
    {
      "cell_type": "markdown",
      "metadata": {
        "id": "view-in-github",
        "colab_type": "text"
      },
      "source": [
        "<a href=\"https://colab.research.google.com/github/nguyenminhhieu3004/nguyenhieu/blob/master/NguyenMinhHieu_thuchanh_ptdl.ipynb\" target=\"_parent\"><img src=\"https://colab.research.google.com/assets/colab-badge.svg\" alt=\"Open In Colab\"/></a>"
      ]
    },
    {
      "cell_type": "markdown",
      "metadata": {
        "id": "b-I0ZmWtmCSB"
      },
      "source": [
        "THỰC HÀNH VẼ BIỂU ĐỒ CHO DỮ LIỆU ĐỊNH LƯỢNG"
      ]
    },
    {
      "cell_type": "code",
      "metadata": {
        "id": "BY4i2zBEmCSH"
      },
      "source": [
        "#Nhập các thư viện cần thiết\n",
        "%matplotlib inline\n",
        "import pandas as pd\n",
        "import seaborn as sns\n",
        "import numpy as np\n",
        "import matplotlib as mpl\n",
        "import matplotlib.pyplot as plt"
      ],
      "execution_count": null,
      "outputs": []
    },
    {
      "cell_type": "code",
      "metadata": {
        "id": "J6SB6xzZmCSI",
        "outputId": "63b71806-6901-4540-f1ec-a8819d683295"
      },
      "source": [
        "#Đọc dữ liệu\n",
        "mb_df = pd.read_csv(\"C:\\\\Users\\\\DUC-PC\\\\Documents\\\\microbiome.csv\")\n",
        "mb_df.head()"
      ],
      "execution_count": null,
      "outputs": [
        {
          "output_type": "execute_result",
          "data": {
            "text/html": [
              "<div>\n",
              "<style scoped>\n",
              "    .dataframe tbody tr th:only-of-type {\n",
              "        vertical-align: middle;\n",
              "    }\n",
              "\n",
              "    .dataframe tbody tr th {\n",
              "        vertical-align: top;\n",
              "    }\n",
              "\n",
              "    .dataframe thead th {\n",
              "        text-align: right;\n",
              "    }\n",
              "</style>\n",
              "<table border=\"1\" class=\"dataframe\">\n",
              "  <thead>\n",
              "    <tr style=\"text-align: right;\">\n",
              "      <th></th>\n",
              "      <th>Taxon</th>\n",
              "      <th>Patient</th>\n",
              "      <th>Tissue</th>\n",
              "      <th>Stool</th>\n",
              "    </tr>\n",
              "  </thead>\n",
              "  <tbody>\n",
              "    <tr>\n",
              "      <th>0</th>\n",
              "      <td>Firmicutes</td>\n",
              "      <td>1</td>\n",
              "      <td>632</td>\n",
              "      <td>305</td>\n",
              "    </tr>\n",
              "    <tr>\n",
              "      <th>1</th>\n",
              "      <td>Firmicutes</td>\n",
              "      <td>2</td>\n",
              "      <td>136</td>\n",
              "      <td>4182</td>\n",
              "    </tr>\n",
              "    <tr>\n",
              "      <th>2</th>\n",
              "      <td>Firmicutes</td>\n",
              "      <td>3</td>\n",
              "      <td>1174</td>\n",
              "      <td>703</td>\n",
              "    </tr>\n",
              "    <tr>\n",
              "      <th>3</th>\n",
              "      <td>Firmicutes</td>\n",
              "      <td>4</td>\n",
              "      <td>408</td>\n",
              "      <td>3946</td>\n",
              "    </tr>\n",
              "    <tr>\n",
              "      <th>4</th>\n",
              "      <td>Firmicutes</td>\n",
              "      <td>5</td>\n",
              "      <td>831</td>\n",
              "      <td>8605</td>\n",
              "    </tr>\n",
              "  </tbody>\n",
              "</table>\n",
              "</div>"
            ],
            "text/plain": [
              "        Taxon  Patient  Tissue  Stool\n",
              "0  Firmicutes        1     632    305\n",
              "1  Firmicutes        2     136   4182\n",
              "2  Firmicutes        3    1174    703\n",
              "3  Firmicutes        4     408   3946\n",
              "4  Firmicutes        5     831   8605"
            ]
          },
          "metadata": {
            "tags": []
          },
          "execution_count": 30
        }
      ]
    },
    {
      "cell_type": "markdown",
      "metadata": {
        "id": "jydMKrjAmCSJ"
      },
      "source": [
        "Vẽ Box plot"
      ]
    },
    {
      "cell_type": "code",
      "metadata": {
        "id": "0x5FJ30OmCSJ",
        "outputId": "1172f05c-bb0f-4cb8-e79b-de71409ccf49"
      },
      "source": [
        "Tissue = mb_df['Tissue']\n",
        "Tissue.plot(kind='box')"
      ],
      "execution_count": null,
      "outputs": [
        {
          "output_type": "execute_result",
          "data": {
            "text/plain": [
              "<matplotlib.axes._subplots.AxesSubplot at 0x1e66fbb6370>"
            ]
          },
          "metadata": {
            "tags": []
          },
          "execution_count": 31
        },
        {
          "output_type": "display_data",
          "data": {
            "image/png": "[encoded data removed]",
            "text/plain": [
              "<Figure size 432x288 with 1 Axes>"
            ]
          },
          "metadata": {
            "tags": [],
            "needs_background": "light"
          }
        }
      ]
    },
    {
      "cell_type": "markdown",
      "metadata": {
        "id": "-VxTomVUmCSK"
      },
      "source": [
        "Bài tập: Hãy cải tiến biểu đồ box plot trên để đẹp hơn"
      ]
    },
    {
      "cell_type": "code",
      "metadata": {
        "id": "vMO3UefqmCSK",
        "outputId": "1b95ab56-5ced-405f-bb4b-dc9d267666c4"
      },
      "source": [
        "colors = [\"cyan\"]\n",
        "sns.boxplot(data = Tissue, palette =colors, orient = 'h')"
      ],
      "execution_count": null,
      "outputs": [
        {
          "output_type": "execute_result",
          "data": {
            "text/plain": [
              "<matplotlib.axes._subplots.AxesSubplot at 0x1e66fcb1040>"
            ]
          },
          "metadata": {
            "tags": []
          },
          "execution_count": 32
        },
        {
          "output_type": "display_data",
          "data": {
            "image/png": "[encoded data removed]",
            "text/plain": [
              "<Figure size 432x288 with 1 Axes>"
            ]
          },
          "metadata": {
            "tags": [],
            "needs_background": "light"
          }
        }
      ]
    },
    {
      "cell_type": "markdown",
      "metadata": {
        "id": "wpxBnrHWmCSK"
      },
      "source": [
        "VẼ SCATTER PLOT VỚI 2 TRỤC LÀ TISSUE - STOOL"
      ]
    },
    {
      "cell_type": "code",
      "metadata": {
        "id": "CQ1gOjv_mCSK",
        "outputId": "5a2b98ad-799c-42c5-a01d-4f458d549cc6"
      },
      "source": [
        "mb_df_2 = mb_df[['Tissue', 'Stool']]\n",
        "mb_df_2.head()"
      ],
      "execution_count": null,
      "outputs": [
        {
          "output_type": "execute_result",
          "data": {
            "text/html": [
              "<div>\n",
              "<style scoped>\n",
              "    .dataframe tbody tr th:only-of-type {\n",
              "        vertical-align: middle;\n",
              "    }\n",
              "\n",
              "    .dataframe tbody tr th {\n",
              "        vertical-align: top;\n",
              "    }\n",
              "\n",
              "    .dataframe thead th {\n",
              "        text-align: right;\n",
              "    }\n",
              "</style>\n",
              "<table border=\"1\" class=\"dataframe\">\n",
              "  <thead>\n",
              "    <tr style=\"text-align: right;\">\n",
              "      <th></th>\n",
              "      <th>Tissue</th>\n",
              "      <th>Stool</th>\n",
              "    </tr>\n",
              "  </thead>\n",
              "  <tbody>\n",
              "    <tr>\n",
              "      <th>0</th>\n",
              "      <td>632</td>\n",
              "      <td>305</td>\n",
              "    </tr>\n",
              "    <tr>\n",
              "      <th>1</th>\n",
              "      <td>136</td>\n",
              "      <td>4182</td>\n",
              "    </tr>\n",
              "    <tr>\n",
              "      <th>2</th>\n",
              "      <td>1174</td>\n",
              "      <td>703</td>\n",
              "    </tr>\n",
              "    <tr>\n",
              "      <th>3</th>\n",
              "      <td>408</td>\n",
              "      <td>3946</td>\n",
              "    </tr>\n",
              "    <tr>\n",
              "      <th>4</th>\n",
              "      <td>831</td>\n",
              "      <td>8605</td>\n",
              "    </tr>\n",
              "  </tbody>\n",
              "</table>\n",
              "</div>"
            ],
            "text/plain": [
              "   Tissue  Stool\n",
              "0     632    305\n",
              "1     136   4182\n",
              "2    1174    703\n",
              "3     408   3946\n",
              "4     831   8605"
            ]
          },
          "metadata": {
            "tags": []
          },
          "execution_count": 33
        }
      ]
    },
    {
      "cell_type": "code",
      "metadata": {
        "id": "bEytpFJomCSK",
        "outputId": "bab94062-f587-4838-e46e-b47b9457abc8"
      },
      "source": [
        "mb_df_2.plot.scatter(x = 'Tissue', y = 'Stool')"
      ],
      "execution_count": null,
      "outputs": [
        {
          "output_type": "execute_result",
          "data": {
            "text/plain": [
              "<matplotlib.axes._subplots.AxesSubplot at 0x1e66fd0e220>"
            ]
          },
          "metadata": {
            "tags": []
          },
          "execution_count": 34
        },
        {
          "output_type": "display_data",
          "data": {
            "image/png": "[encoded data removed]",
            "text/plain": [
              "<Figure size 432x288 with 1 Axes>"
            ]
          },
          "metadata": {
            "tags": [],
            "needs_background": "light"
          }
        }
      ]
    },
    {
      "cell_type": "markdown",
      "metadata": {
        "id": "Qdec0P-4mCSL"
      },
      "source": [
        "Bài tập: Hãy chỉnh sửa để biểu đồ đẹp hơn"
      ]
    },
    {
      "cell_type": "code",
      "metadata": {
        "id": "nPR5Qev6mCSL",
        "outputId": "cf8bea4f-5759-44f0-8d7a-cc27d182f3df"
      },
      "source": [
        "#không thêm 'hue', 'size' đc vì cần phải có thêm 1 cột dữ liệu nào đó để phân biệt 2 cột trước\n",
        "colours = [\"Red\", \"Violet\"]\n",
        "TS = sns.scatterplot(data = mb_df_2, palette = colours)\n",
        "#Nếuta có code: TS = sns.scatterplot(data = mb_df_2, x = 'Tissue', y = 'Stool') thì nó sẽ chỉ có viền vòng trắng bên ngoài"
      ],
      "execution_count": null,
      "outputs": [
        {
          "output_type": "display_data",
          "data": {
            "image/png": "[encoded data removed]",
            "text/plain": [
              "<Figure size 432x288 with 1 Axes>"
            ]
          },
          "metadata": {
            "tags": [],
            "needs_background": "light"
          }
        }
      ]
    },
    {
      "cell_type": "markdown",
      "metadata": {
        "id": "sJ1U09HdmCSL"
      },
      "source": [
        "VẼ HISTOGRAM"
      ]
    },
    {
      "cell_type": "code",
      "metadata": {
        "id": "ZyhsahttmCSL",
        "outputId": "fe1f4176-4f68-46d3-c0ae-701088196232"
      },
      "source": [
        "mb_df['Stool'].plot(kind='hist')"
      ],
      "execution_count": null,
      "outputs": [
        {
          "output_type": "execute_result",
          "data": {
            "text/plain": [
              "<matplotlib.axes._subplots.AxesSubplot at 0x1e66fdca550>"
            ]
          },
          "metadata": {
            "tags": []
          },
          "execution_count": 36
        },
        {
          "output_type": "display_data",
          "data": {
            "image/png": "[encoded data removed]",
            "text/plain": [
              "<Figure size 432x288 with 1 Axes>"
            ]
          },
          "metadata": {
            "tags": [],
            "needs_background": "light"
          }
        }
      ]
    },
    {
      "cell_type": "code",
      "metadata": {
        "scrolled": true,
        "id": "zn9BVA5lmCSL",
        "outputId": "b1d5fe5e-e519-4ceb-81e5-4e788c2606d0"
      },
      "source": [
        "mb_df['Stool'].plot(kind='hist', cumulative= True)"
      ],
      "execution_count": null,
      "outputs": [
        {
          "output_type": "execute_result",
          "data": {
            "text/plain": [
              "<matplotlib.axes._subplots.AxesSubplot at 0x1e66fe31190>"
            ]
          },
          "metadata": {
            "tags": []
          },
          "execution_count": 37
        },
        {
          "output_type": "display_data",
          "data": {
            "image/png": "[encoded data removed]",
            "text/plain": [
              "<Figure size 432x288 with 1 Axes>"
            ]
          },
          "metadata": {
            "tags": [],
            "needs_background": "light"
          }
        }
      ]
    },
    {
      "cell_type": "code",
      "metadata": {
        "id": "-DK2JEMzmCSL",
        "outputId": "762bc6d4-33e4-40c9-966e-54dfd081bb04"
      },
      "source": [
        ""
      ],
      "execution_count": null,
      "outputs": [
        {
          "output_type": "execute_result",
          "data": {
            "text/plain": [
              "<matplotlib.axes._subplots.AxesSubplot at 0x1e66fe9b250>"
            ]
          },
          "metadata": {
            "tags": []
          },
          "execution_count": 38
        },
        {
          "output_type": "display_data",
          "data": {
            "image/png": "[encoded data removed]",
            "text/plain": [
              "<Figure size 432x288 with 1 Axes>"
            ]
          },
          "metadata": {
            "tags": [],
            "needs_background": "light"
          }
        }
      ]
    },
    {
      "cell_type": "markdown",
      "metadata": {
        "id": "VOPFTycdmCSM"
      },
      "source": [
        "Bài tập: Hãy làm đẹp biểu đồ trên"
      ]
    },
    {
      "cell_type": "code",
      "metadata": {
        "id": "hiZfH9i5mCSM",
        "outputId": "b4096fac-b80d-410a-a1dc-ee8828e69b10"
      },
      "source": [
        "Stool = mb_df['Stool']\n",
        "Stool.plot(kind='hist', cumulative= True, bins = 50, edgecolor=\"Blue\", color=\"Cyan\")    \n"
      ],
      "execution_count": null,
      "outputs": [
        {
          "output_type": "execute_result",
          "data": {
            "text/plain": [
              "<matplotlib.axes._subplots.AxesSubplot at 0x1e671a15400>"
            ]
          },
          "metadata": {
            "tags": []
          },
          "execution_count": 60
        },
        {
          "output_type": "display_data",
          "data": {
            "image/png": "[encoded data removed]",
            "text/plain": [
              "<Figure size 432x288 with 1 Axes>"
            ]
          },
          "metadata": {
            "tags": [],
            "needs_background": "light"
          }
        }
      ]
    }
  ]
}